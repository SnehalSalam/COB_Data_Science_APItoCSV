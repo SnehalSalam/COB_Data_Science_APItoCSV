{
 "cells": [
  {
   "cell_type": "markdown",
   "metadata": {},
   "source": [
    "**1. USING Pandas**"
   ]
  },
  {
   "cell_type": "markdown",
   "metadata": {},
   "source": [
    "**Time Complexity = O(n)**"
   ]
  },
  {
   "cell_type": "code",
   "execution_count": null,
   "metadata": {},
   "outputs": [],
   "source": [
    "import requests\n",
    "import pandas as pd"
   ]
  },
  {
   "cell_type": "code",
   "execution_count": null,
   "metadata": {},
   "outputs": [],
   "source": [
    "API_url = \"https://data.binance.com/api/v3/ticker/24hr\"\n",
    "API_requests = requests.get(API_url)"
   ]
  },
  {
   "cell_type": "code",
   "execution_count": null,
   "metadata": {},
   "outputs": [],
   "source": [
    "if API_requests.status_code == 200:\n",
    "    dataset = API_requests.json()\n",
    "else:\n",
    "    print(\"Error: Unable to fetch the data from API dataset\")\n",
    "    dataset = []"
   ]
  },
  {
   "cell_type": "code",
   "execution_count": null,
   "metadata": {},
   "outputs": [],
   "source": [
    "print(dataset[10])"
   ]
  },
  {
   "cell_type": "code",
   "execution_count": null,
   "metadata": {},
   "outputs": [],
   "source": [
    "My_dataframe = pd.DataFrame(dataset) \n",
    "print(My_dataframe.head())"
   ]
  },
  {
   "cell_type": "code",
   "execution_count": null,
   "metadata": {},
   "outputs": [],
   "source": [
    "csv_file_path= r\"C:\\Users\\salam_jmvmbso\\OneDrive\\Desktop\\Data Science Internship\\Phase1\\DS Task1\\csv_file_using_pd.csv\"\n",
    "My_dataframe.to_csv(csv_file_path, index=False)\n",
    "print(\"Data has been saved successfuly :) \")\n",
    "print(f\"location: { csv_file_path}\")"
   ]
  },
  {
   "cell_type": "markdown",
   "metadata": {},
   "source": []
  },
  {
   "cell_type": "markdown",
   "metadata": {},
   "source": []
  },
  {
   "cell_type": "markdown",
   "metadata": {},
   "source": [
    "**2. WITHOUT USING Pandas**"
   ]
  },
  {
   "cell_type": "markdown",
   "metadata": {},
   "source": [
    "**Time Complexity = O(n)**"
   ]
  },
  {
   "cell_type": "code",
   "execution_count": null,
   "metadata": {},
   "outputs": [],
   "source": [
    "import requests\n",
    "import json\n",
    "import csv"
   ]
  },
  {
   "cell_type": "code",
   "execution_count": null,
   "metadata": {},
   "outputs": [],
   "source": [
    "\n",
    "dataset = 'https://api.binance.com/api/v3/ticker/24hr' \n",
    "\n",
    "headers = {'Accepts': 'application/json', 'Content-Type': 'application/json'}\n"
   ]
  },
  {
   "cell_type": "code",
   "execution_count": null,
   "metadata": {},
   "outputs": [],
   "source": [
    "\n",
    "try:\n",
    "    response = requests.get(dataset, headers=headers)\n",
    "\n",
    "    if response.status_code == 200:\n",
    "        myjson = response.json()\n",
    "        mydata = []\n",
    "        csv_header = ['symbol', 'priceChange', 'priceChangePercent', 'weightedAvgPrice', 'prevClosePrice',\n",
    "                      'lastPrice', 'lastQty', 'bidPrice', 'bidQty', 'askPrice', 'askQty', 'openPrice', 'highPrice',\n",
    "                      'lowPrice', 'volume', 'quoteVolume', 'openTime', 'closeTime', 'firstId',\n",
    "                      'lastId', 'count']\n",
    "\n",
    "        for x in myjson:\n",
    "            if isinstance(x, dict): \n",
    "                Make_list = [x.get('symbol', ''), x.get('priceChange', ''), x.get('priceChangePercent', ''),\n",
    "                             x.get('weightedAvgPrice', ''),\n",
    "                             x.get('prevClosePrice', ''), x.get('lastPrice', ''), x.get('lastQty', ''),\n",
    "                             x.get('bidPrice', ''),\n",
    "                             x.get('bidQty', ''), x.get('askPrice', ''), x.get('askQty', ''), x.get('openPrice', ''),\n",
    "                             x.get('highPrice', ''), x.get('lowPrice', ''), x.get('volume', ''),\n",
    "                             x.get('quoteVolume', ''),\n",
    "                             x.get('openTime', ''), x.get('closeTime', ''), x.get('firstId', ''), x.get('lastId', ''),\n",
    "                             x.get('count', '')]\n",
    "                mydata.append(Make_list)\n",
    "\n",
    "        with open('Dataset-Task1.csv', 'w', encoding='UTF-8', newline='') as A:\n",
    "            writer = csv.writer(A)\n",
    "            writer.writerow(csv_header)\n",
    "            writer.writerows(mydata)\n",
    "    else:\n",
    "        print(f\"Failed to retrieve data. Status Code: {response.status_code}\")\n",
    "except requests.exceptions.RequestException as e:\n",
    "    print(f\"An error occurred during the request: {e}\")\n",
    "print(\"Program exicuted successfuly\")"
   ]
  }
 ],
 "metadata": {
  "kernelspec": {
   "display_name": "Python 3",
   "language": "python",
   "name": "python3"
  },
  "language_info": {
   "codemirror_mode": {
    "name": "ipython",
    "version": 3
   },
   "file_extension": ".py",
   "mimetype": "text/x-python",
   "name": "python",
   "nbconvert_exporter": "python",
   "pygments_lexer": "ipython3",
   "version": "3.10.4"
  },
  "orig_nbformat": 4
 },
 "nbformat": 4,
 "nbformat_minor": 2
}
